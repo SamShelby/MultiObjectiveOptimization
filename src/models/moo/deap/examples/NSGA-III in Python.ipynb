{
 "cells": [
  {
   "cell_type": "markdown",
   "metadata": {
    "button": false,
    "deletable": true,
    "new_sheet": false,
    "run_control": {
     "read_only": false
    }
   },
   "source": [
    "# `nsgaiii`: Understanding NSGA-III with a Python Implementation"
   ]
  },
  {
   "cell_type": "markdown",
   "metadata": {
    "button": false,
    "deletable": true,
    "new_sheet": false,
    "run_control": {
     "read_only": false
    }
   },
   "source": [
    "In this notebook we will explore NSGA-III and introduce its implementation in Python, that is distributed as the [`nsgaiii` module]"
   ]
  },
  {
   "cell_type": "markdown",
   "metadata": {},
   "source": [
    "## Preparing the environment"
   ]
  },
  {
   "cell_type": "code",
   "execution_count": 1,
   "metadata": {
    "collapsed": true
   },
   "outputs": [],
   "source": [
    "import time, array, random, copy, math\n",
    "from itertools import chain\n",
    "from operator import attrgetter, itemgetter"
   ]
  },
  {
   "cell_type": "code",
   "execution_count": 2,
   "metadata": {
    "button": false,
    "collapsed": false,
    "deletable": true,
    "new_sheet": false,
    "run_control": {
     "read_only": false
    }
   },
   "outputs": [],
   "source": [
    "import matplotlib as mpl\n",
    "import matplotlib.pyplot as plt\n",
    "import mpl_toolkits.mplot3d as a3\n",
    "from matplotlib.path import Path\n",
    "import matplotlib.patches as patches\n",
    "import numpy as np"
   ]
  },
  {
   "cell_type": "markdown",
   "metadata": {},
   "source": [
    "In case you want to run this notebook on your own you need IPython and the [DEAP evolutionary computation module](https://www.github.com/DEAP/deap) with version 1.1.0 or above (at the time of writing this version is only available by cloning it from the GitHub repository)."
   ]
  },
  {
   "cell_type": "code",
   "execution_count": 3,
   "metadata": {
    "button": false,
    "collapsed": false,
    "deletable": true,
    "new_sheet": false,
    "run_control": {
     "read_only": false
    }
   },
   "outputs": [],
   "source": [
    "from deap import algorithms, base, benchmarks, tools, creator"
   ]
  },
  {
   "cell_type": "code",
   "execution_count": 4,
   "metadata": {
    "collapsed": false
   },
   "outputs": [],
   "source": [
    "from custom import *"
   ]
  },
  {
   "cell_type": "markdown",
   "metadata": {},
   "source": [
    "Version of the modules used. Go to https://github.com/jrjohansson/version_information to install extension. "
   ]
  },
  {
   "cell_type": "markdown",
   "metadata": {},
   "source": [
    "# `nsgaiii` source code"
   ]
  },
  {
   "cell_type": "markdown",
   "metadata": {},
   "source": [
    "We start by loading and inspecting the source code of the module. As we want to play with we will load all the supporting methods that otherwise would remain hidden after the `import` statement."
   ]
  },
  {
   "cell_type": "code",
   "execution_count": 5,
   "metadata": {
    "collapsed": true
   },
   "outputs": [],
   "source": [
    "# %load nsgaiii/selection.py\n",
    "#    This file is part of nsgaiii, a Python implementation of NSGA-III.\n",
    "#\n",
    "#    nsgaiii is free software: you can redistribute it and/or modify\n",
    "#    it under the terms of the GNU Lesser General Public License as\n",
    "#    published by the Free Software Foundation, either version 3 of\n",
    "#    the License, or (at your option) any later version.\n",
    "#\n",
    "#    nsgaiii is distributed in the hope that it will be useful,\n",
    "#    but WITHOUT ANY WARRANTY; without even the implied warranty of\n",
    "#    MERCHANTABILITY or FITNESS FOR A PARTICULAR PURPOSE. See the\n",
    "#    GNU Lesser General Public License for more details.\n",
    "#\n",
    "#    You should have received a copy of the GNU Lesser General Public\n",
    "#    License along with nsgaiii. If not, see <http://www.gnu.org/licenses/>.\n",
    "#\n",
    "#    by Luis Marti (IC/UFF) http://lmarti.com\n",
    "\n",
    "import copy,random\n",
    "import numpy as np\n",
    "from deap import tools\n",
    "\n",
    "class ReferencePoint(list):\n",
    "    '''A reference point exists in objective space an has a set of individuals\n",
    "    associated to it.'''\n",
    "    def __init__(self, *args):\n",
    "        list.__init__(self, *args)\n",
    "        self.associations_count = 0\n",
    "        self.associations = []\n",
    "\n",
    "def generate_reference_points(num_objs, num_divisions_per_obj=4):\n",
    "    '''Generates reference points for NSGA-III selection. This code is based on\n",
    "    `jMetal NSGA-III implementation <https://github.com/jMetal/jMetal>`_.\n",
    "    '''\n",
    "    def gen_refs_recursive(work_point, num_objs, left, total, depth):\n",
    "        if depth == num_objs - 1:\n",
    "            work_point[depth] = left/total\n",
    "            ref = ReferencePoint(copy.deepcopy(work_point))\n",
    "            return [ref]\n",
    "        else:\n",
    "            res = []\n",
    "            for i in range(left):\n",
    "                work_point[depth] = i/total\n",
    "                res = res + gen_refs_recursive(work_point, num_objs, left-i, total, depth+1)\n",
    "            return res\n",
    "    return gen_refs_recursive([0]*num_objs, num_objs, num_objs*num_divisions_per_obj,\n",
    "                              num_objs*num_divisions_per_obj, 0)\n",
    "\n",
    "def find_ideal_point(individuals):\n",
    "    'Finds the ideal point from a set individuals.'\n",
    "    current_ideal = [np.infty] * len(individuals[0].fitness.values)\n",
    "    for ind in individuals:\n",
    "        # Use wvalues to accomodate for maximization and minimization problems.\n",
    "        current_ideal = np.minimum(current_ideal, \n",
    "                                  np.multiply(ind.fitness.wvalues, -1))\n",
    "    return current_ideal\n",
    "\n",
    "def find_extreme_points(individuals):\n",
    "    'Finds the individuals with extreme values for each objective function.'\n",
    "    return [sorted(individuals, key=lambda ind:ind.fitness.wvalues[o] * -1)[-1]\n",
    "            for o in range(len(individuals[0].fitness.values))]\n",
    "\n",
    "def construct_hyperplane(individuals, extreme_points):\n",
    "    'Calculates the axis intersects for a set of individuals and its extremes.'\n",
    "    def has_duplicate_individuals(individuals):\n",
    "        for i in range(len(individuals)):\n",
    "            for j in range(i+1, len(individuals)):\n",
    "                if individuals[i].fitness.values == individuals[j].fitness.values:\n",
    "                    return True\n",
    "        return False\n",
    "\n",
    "    num_objs = len(individuals[0].fitness.values)\n",
    "\n",
    "    if has_duplicate_individuals(extreme_points):\n",
    "        intercepts = [extreme_points[m].fitness.values[m] for m in range(num_objs)]\n",
    "    else:\n",
    "        b = np.ones(num_objs)\n",
    "        A = [point.fitness.values for point in extreme_points]\n",
    "        x = np.linalg.solve(A,b)\n",
    "        intercepts = 1/x\n",
    "    return intercepts\n",
    "\n",
    "def normalize_objective(individual, m, intercepts, ideal_point, epsilon=1e-20):\n",
    "    'Normalizes an objective.'\n",
    "    # Numeric trick present in JMetal implementation.\n",
    "    if np.abs(intercepts[m]-ideal_point[m] > epsilon):\n",
    "        return individual.fitness.values[m] / (intercepts[m]-ideal_point[m])\n",
    "    else:\n",
    "        return individual.fitness.values[m] / epsilon\n",
    "\n",
    "def normalize_objectives(individuals, intercepts, ideal_point):\n",
    "    '''Normalizes individuals using the hyperplane defined by the intercepts as\n",
    "    reference. Corresponds to Algorithm 2 of Deb & Jain (2014).'''\n",
    "    num_objs = len(individuals[0].fitness.values)\n",
    "\n",
    "    for ind in individuals:\n",
    "        ind.fitness.normalized_values = list([normalize_objective(ind, m,\n",
    "                                                                  intercepts, ideal_point)\n",
    "                                                                  for m in range(num_objs)])\n",
    "    return individuals\n",
    "\n",
    "def perpendicular_distance(direction, point):\n",
    "    k = np.dot(direction, point) / np.sum(np.power(direction, 2))\n",
    "    d = np.sum(np.power(np.subtract(np.multiply(direction, [k] * len(direction)), point) , 2))\n",
    "    return np.sqrt(d)\n",
    "\n",
    "def associate(individuals, reference_points):\n",
    "    '''Associates individuals to reference points and calculates niche number.\n",
    "    Corresponds to Algorithm 3 of Deb & Jain (2014).'''\n",
    "    pareto_fronts = tools.sortLogNondominated(individuals, len(individuals))\n",
    "    num_objs = len(individuals[0].fitness.values)\n",
    "\n",
    "    for ind in individuals:\n",
    "        rp_dists = [(rp, perpendicular_distance(ind.fitness.normalized_values, rp))\n",
    "                    for rp in reference_points]\n",
    "        best_rp, best_dist = sorted(rp_dists, key=lambda rpd:rpd[1])[0]\n",
    "        ind.reference_point = best_rp\n",
    "        ind.ref_point_distance = best_dist\n",
    "        best_rp.associations_count +=1 # update de niche number\n",
    "        best_rp.associations += [ind]\n",
    "\n",
    "def niching_select(individuals, k):\n",
    "    '''Secondary niched selection based on reference points. Corresponds to\n",
    "    steps 13-17 of Algorithm 1 and to Algorithm 4.'''\n",
    "    if len(individuals) == k:\n",
    "        return individuals\n",
    "\n",
    "    #individuals = copy.deepcopy(individuals)\n",
    "\n",
    "    ideal_point = find_ideal_point(individuals)\n",
    "    extremes = find_extreme_points(individuals)\n",
    "    intercepts = construct_hyperplane(individuals, extremes)\n",
    "    normalize_objectives(individuals, intercepts, ideal_point)\n",
    "\n",
    "    reference_points = generate_reference_points(len(individuals[0].fitness.values))\n",
    "\n",
    "    associate(individuals, reference_points)\n",
    "\n",
    "    res = []\n",
    "    while len(res) < k:\n",
    "        min_assoc_rp = min(reference_points, key=lambda rp: rp.associations_count)\n",
    "        min_assoc_rps = [rp for rp in reference_points if rp.associations_count == min_assoc_rp.associations_count]\n",
    "        chosen_rp = min_assoc_rps[random.randint(0, len(min_assoc_rps)-1)]\n",
    "\n",
    "        #print('Rps',min_assoc_rp.associations_count, chosen_rp.associations_count, len(min_assoc_rps))\n",
    "\n",
    "        associated_inds = chosen_rp.associations\n",
    "\n",
    "        if chosen_rp.associations:\n",
    "            if chosen_rp.associations_count == 0:\n",
    "                sel = min(chosen_rp.associations, key=lambda ind: ind.ref_point_distance)\n",
    "            else:\n",
    "                sel = chosen_rp.associations[random.randint(0, len(chosen_rp.associations)-1)]\n",
    "            res += [sel]\n",
    "            chosen_rp.associations.remove(sel)\n",
    "            chosen_rp.associations_count += 1\n",
    "            individuals.remove(sel)\n",
    "        else:\n",
    "            reference_points.remove(chosen_rp)\n",
    "    return res\n",
    "\n",
    "def sel_nsga_iii(individuals, k):\n",
    "    '''Implements NSGA-III selection as described in\n",
    "    Deb, K., & Jain, H. (2014). An Evolutionary Many-Objective Optimization\n",
    "    Algorithm Using Reference-Point-Based Nondominated Sorting Approach,\n",
    "    Part I: Solving Problems With BoxConstraints. IEEE Transactions on\n",
    "    Evolutionary Computation, 18(4), 577–601. doi:10.1109/TEVC.2013.2281535.\n",
    "    '''\n",
    "    assert len(individuals) >= k\n",
    "\n",
    "    if len(individuals)==k:\n",
    "        return individuals\n",
    "\n",
    "    # Algorithm 1 steps 4--8\n",
    "    fronts = tools.sortLogNondominated(individuals, len(individuals))\n",
    "\n",
    "    limit = 0\n",
    "    res =[]\n",
    "    for f, front in enumerate(fronts):\n",
    "        res += front\n",
    "        if len(res) > k:\n",
    "            limit = f\n",
    "            break\n",
    "    # Algorithm 1 steps\n",
    "    selection = []\n",
    "    if limit > 0:\n",
    "        for f in range(limit):\n",
    "            selection += fronts[f]\n",
    "\n",
    "    # complete selected inividuals using the referece point based approach\n",
    "    selection += niching_select(fronts[limit], k - len(selection))\n",
    "    return selection\n",
    "\n",
    "__all__ = [\"sel_nsga_iii\"]\n"
   ]
  },
  {
   "cell_type": "markdown",
   "metadata": {},
   "source": [
    "# Understanding NSGA-III selection"
   ]
  },
  {
   "cell_type": "markdown",
   "metadata": {},
   "source": [
    "In order to understand the NSGA-III selection mechanism we will make an example iteration of solving a three-objectives DTLZ2 problem."
   ]
  },
  {
   "cell_type": "code",
   "execution_count": 6,
   "metadata": {
    "button": false,
    "collapsed": false,
    "deletable": true,
    "new_sheet": false,
    "run_control": {
     "read_only": false
    }
   },
   "outputs": [],
   "source": [
    "creator.create(\"FitnessMin3\", base.Fitness, weights=(-1.0,) * 3)\n",
    "creator.create(\"Individual3\", array.array, typecode='d', \n",
    "               fitness=creator.FitnessMin3)"
   ]
  },
  {
   "cell_type": "markdown",
   "metadata": {
    "button": false,
    "deletable": true,
    "new_sheet": false,
    "run_control": {
     "read_only": false
    }
   },
   "source": [
    "The `toolbox` contains the configuration of the algorithm:\n",
    "\n",
    "* how to create an individual,\n",
    "* how to create a population,\n",
    "* the evolutionary operators,\n",
    "* the evaluation function, and\n",
    "* the selection method.\n",
    "\n",
    "The `prepare_toolbox()` function encapsulates the configuration."
   ]
  },
  {
   "cell_type": "code",
   "execution_count": 7,
   "metadata": {
    "button": false,
    "collapsed": true,
    "deletable": true,
    "new_sheet": false,
    "run_control": {
     "read_only": false
    }
   },
   "outputs": [],
   "source": [
    "def prepare_toolbox(problem_instance, selection_func, number_of_variables, bounds_low, bounds_up):\n",
    "    \n",
    "    def uniform(low, up, size=None):\n",
    "        try:\n",
    "            return [random.uniform(a, b) for a, b in zip(low, up)]\n",
    "        except TypeError:\n",
    "            return [random.uniform(a, b) for a, b in zip([low] * size, [up] * size)]\n",
    "    \n",
    "    toolbox = base.Toolbox()\n",
    "    \n",
    "    toolbox.register('evaluate', problem_instance)\n",
    "    toolbox.register('select', selection_func)\n",
    "    \n",
    "    toolbox.register(\"attr_float\", uniform, bounds_low, bounds_up, number_of_variables)\n",
    "    toolbox.register(\"individual\", tools.initIterate, creator.Individual3, toolbox.attr_float)\n",
    "    toolbox.register(\"population\", tools.initRepeat, list, toolbox.individual)\n",
    "    \n",
    "    toolbox.register(\"mate\", tools.cxSimulatedBinaryBounded, \n",
    "                     low=bounds_low, up=bounds_up, eta=20.0)\n",
    "    toolbox.register(\"mutate\", tools.mutPolynomialBounded, \n",
    "                     low=bounds_low, up=bounds_up, eta=20.0, \n",
    "                     indpb=1.0/number_of_variables)\n",
    "\n",
    "    toolbox.pop_size = 100   # population size\n",
    "    toolbox.max_gen = 200    # max number of iteration\n",
    "    toolbox.mut_prob = 1/number_of_variables\n",
    "    toolbox.cross_prob = 0.3\n",
    "    \n",
    "    return toolbox"
   ]
  },
  {
   "cell_type": "markdown",
   "metadata": {},
   "source": [
    "Preparing an instance of `toolbox`:"
   ]
  },
  {
   "cell_type": "code",
   "execution_count": 8,
   "metadata": {
    "button": false,
    "collapsed": true,
    "deletable": true,
    "new_sheet": false,
    "run_control": {
     "read_only": false
    }
   },
   "outputs": [],
   "source": [
    "number_of_variables = 30"
   ]
  },
  {
   "cell_type": "code",
   "execution_count": 9,
   "metadata": {
    "button": false,
    "collapsed": true,
    "deletable": true,
    "new_sheet": false,
    "run_control": {
     "read_only": false
    }
   },
   "outputs": [],
   "source": [
    "bounds_low, bounds_up = 0, 1"
   ]
  },
  {
   "cell_type": "code",
   "execution_count": 10,
   "metadata": {
    "collapsed": false
   },
   "outputs": [],
   "source": [
    "toolbox = prepare_toolbox(lambda ind: benchmarks.dtlz2(ind, 3), \n",
    "                          sel_nsga_iii, number_of_variables,\n",
    "                          bounds_low, bounds_up)"
   ]
  },
  {
   "cell_type": "markdown",
   "metadata": {},
   "source": [
    "## Visualizing refence point selection\n",
    "\n",
    "Creating a population and evaluating it."
   ]
  },
  {
   "cell_type": "code",
   "execution_count": 11,
   "metadata": {
    "collapsed": false
   },
   "outputs": [],
   "source": [
    "pop = toolbox.population(n=20)"
   ]
  },
  {
   "cell_type": "code",
   "execution_count": 12,
   "metadata": {
    "collapsed": false
   },
   "outputs": [],
   "source": [
    "for ind in pop:\n",
    "    ind.fitness.values = toolbox.evaluate(ind)"
   ]
  },
  {
   "cell_type": "code",
   "execution_count": 13,
   "metadata": {
    "button": false,
    "collapsed": false,
    "new_sheet": false,
    "run_control": {
     "read_only": false
    },
    "scrolled": false
   },
   "outputs": [
    {
     "ename": "ValueError",
     "evalue": "Supply a 'c' argument or a 'color' kwarg but not both; they differ but their functionalities overlap.",
     "output_type": "error",
     "traceback": [
      "\u001B[1;31m---------------------------------------------------------------------------\u001B[0m",
      "\u001B[1;31mValueError\u001B[0m                                Traceback (most recent call last)",
      "\u001B[1;32m~\\AppData\\Local\\Temp/ipykernel_336/2384337684.py\u001B[0m in \u001B[0;36m<module>\u001B[1;34m\u001B[0m\n\u001B[0;32m      7\u001B[0m \u001B[1;31m# the population (purple)\u001B[0m\u001B[1;33m\u001B[0m\u001B[1;33m\u001B[0m\u001B[1;33m\u001B[0m\u001B[0m\n\u001B[0;32m      8\u001B[0m \u001B[1;32mfor\u001B[0m \u001B[0mind\u001B[0m \u001B[1;32min\u001B[0m \u001B[0mpop\u001B[0m\u001B[1;33m:\u001B[0m\u001B[1;33m\u001B[0m\u001B[1;33m\u001B[0m\u001B[0m\n\u001B[1;32m----> 9\u001B[1;33m     ax.scatter(ind.fitness.values[0],\n\u001B[0m\u001B[0;32m     10\u001B[0m                \u001B[0mind\u001B[0m\u001B[1;33m.\u001B[0m\u001B[0mfitness\u001B[0m\u001B[1;33m.\u001B[0m\u001B[0mvalues\u001B[0m\u001B[1;33m[\u001B[0m\u001B[1;36m1\u001B[0m\u001B[1;33m]\u001B[0m\u001B[1;33m,\u001B[0m\u001B[1;33m\u001B[0m\u001B[1;33m\u001B[0m\u001B[0m\n\u001B[0;32m     11\u001B[0m                \u001B[0mind\u001B[0m\u001B[1;33m.\u001B[0m\u001B[0mfitness\u001B[0m\u001B[1;33m.\u001B[0m\u001B[0mvalues\u001B[0m\u001B[1;33m[\u001B[0m\u001B[1;36m2\u001B[0m\u001B[1;33m]\u001B[0m\u001B[1;33m,\u001B[0m\u001B[1;33m\u001B[0m\u001B[1;33m\u001B[0m\u001B[0m\n",
      "\u001B[1;32m~\\.conda\\envs\\machine_learning\\lib\\site-packages\\mpl_toolkits\\mplot3d\\axes3d.py\u001B[0m in \u001B[0;36mscatter\u001B[1;34m(self, xs, ys, zs, zdir, s, c, depthshade, *args, **kwargs)\u001B[0m\n\u001B[0;32m   2414\u001B[0m             \u001B[0mzs\u001B[0m \u001B[1;33m=\u001B[0m \u001B[0mzs\u001B[0m\u001B[1;33m.\u001B[0m\u001B[0mcopy\u001B[0m\u001B[1;33m(\u001B[0m\u001B[1;33m)\u001B[0m\u001B[1;33m\u001B[0m\u001B[1;33m\u001B[0m\u001B[0m\n\u001B[0;32m   2415\u001B[0m \u001B[1;33m\u001B[0m\u001B[0m\n\u001B[1;32m-> 2416\u001B[1;33m         \u001B[0mpatches\u001B[0m \u001B[1;33m=\u001B[0m \u001B[0msuper\u001B[0m\u001B[1;33m(\u001B[0m\u001B[1;33m)\u001B[0m\u001B[1;33m.\u001B[0m\u001B[0mscatter\u001B[0m\u001B[1;33m(\u001B[0m\u001B[0mxs\u001B[0m\u001B[1;33m,\u001B[0m \u001B[0mys\u001B[0m\u001B[1;33m,\u001B[0m \u001B[0ms\u001B[0m\u001B[1;33m=\u001B[0m\u001B[0ms\u001B[0m\u001B[1;33m,\u001B[0m \u001B[0mc\u001B[0m\u001B[1;33m=\u001B[0m\u001B[0mc\u001B[0m\u001B[1;33m,\u001B[0m \u001B[1;33m*\u001B[0m\u001B[0margs\u001B[0m\u001B[1;33m,\u001B[0m \u001B[1;33m**\u001B[0m\u001B[0mkwargs\u001B[0m\u001B[1;33m)\u001B[0m\u001B[1;33m\u001B[0m\u001B[1;33m\u001B[0m\u001B[0m\n\u001B[0m\u001B[0;32m   2417\u001B[0m         art3d.patch_collection_2d_to_3d(patches, zs=zs, zdir=zdir,\n\u001B[0;32m   2418\u001B[0m                                         depthshade=depthshade)\n",
      "\u001B[1;32m~\\.conda\\envs\\machine_learning\\lib\\site-packages\\matplotlib\\__init__.py\u001B[0m in \u001B[0;36minner\u001B[1;34m(ax, data, *args, **kwargs)\u001B[0m\n\u001B[0;32m   1359\u001B[0m     \u001B[1;32mdef\u001B[0m \u001B[0minner\u001B[0m\u001B[1;33m(\u001B[0m\u001B[0max\u001B[0m\u001B[1;33m,\u001B[0m \u001B[1;33m*\u001B[0m\u001B[0margs\u001B[0m\u001B[1;33m,\u001B[0m \u001B[0mdata\u001B[0m\u001B[1;33m=\u001B[0m\u001B[1;32mNone\u001B[0m\u001B[1;33m,\u001B[0m \u001B[1;33m**\u001B[0m\u001B[0mkwargs\u001B[0m\u001B[1;33m)\u001B[0m\u001B[1;33m:\u001B[0m\u001B[1;33m\u001B[0m\u001B[1;33m\u001B[0m\u001B[0m\n\u001B[0;32m   1360\u001B[0m         \u001B[1;32mif\u001B[0m \u001B[0mdata\u001B[0m \u001B[1;32mis\u001B[0m \u001B[1;32mNone\u001B[0m\u001B[1;33m:\u001B[0m\u001B[1;33m\u001B[0m\u001B[1;33m\u001B[0m\u001B[0m\n\u001B[1;32m-> 1361\u001B[1;33m             \u001B[1;32mreturn\u001B[0m \u001B[0mfunc\u001B[0m\u001B[1;33m(\u001B[0m\u001B[0max\u001B[0m\u001B[1;33m,\u001B[0m \u001B[1;33m*\u001B[0m\u001B[0mmap\u001B[0m\u001B[1;33m(\u001B[0m\u001B[0msanitize_sequence\u001B[0m\u001B[1;33m,\u001B[0m \u001B[0margs\u001B[0m\u001B[1;33m)\u001B[0m\u001B[1;33m,\u001B[0m \u001B[1;33m**\u001B[0m\u001B[0mkwargs\u001B[0m\u001B[1;33m)\u001B[0m\u001B[1;33m\u001B[0m\u001B[1;33m\u001B[0m\u001B[0m\n\u001B[0m\u001B[0;32m   1362\u001B[0m \u001B[1;33m\u001B[0m\u001B[0m\n\u001B[0;32m   1363\u001B[0m         \u001B[0mbound\u001B[0m \u001B[1;33m=\u001B[0m \u001B[0mnew_sig\u001B[0m\u001B[1;33m.\u001B[0m\u001B[0mbind\u001B[0m\u001B[1;33m(\u001B[0m\u001B[0max\u001B[0m\u001B[1;33m,\u001B[0m \u001B[1;33m*\u001B[0m\u001B[0margs\u001B[0m\u001B[1;33m,\u001B[0m \u001B[1;33m**\u001B[0m\u001B[0mkwargs\u001B[0m\u001B[1;33m)\u001B[0m\u001B[1;33m\u001B[0m\u001B[1;33m\u001B[0m\u001B[0m\n",
      "\u001B[1;32m~\\.conda\\envs\\machine_learning\\lib\\site-packages\\matplotlib\\axes\\_axes.py\u001B[0m in \u001B[0;36mscatter\u001B[1;34m(self, x, y, s, c, marker, cmap, norm, vmin, vmax, alpha, linewidths, edgecolors, plotnonfinite, **kwargs)\u001B[0m\n\u001B[0;32m   4514\u001B[0m             \u001B[0morig_edgecolor\u001B[0m \u001B[1;33m=\u001B[0m \u001B[0mkwargs\u001B[0m\u001B[1;33m.\u001B[0m\u001B[0mget\u001B[0m\u001B[1;33m(\u001B[0m\u001B[1;34m'edgecolor'\u001B[0m\u001B[1;33m,\u001B[0m \u001B[1;32mNone\u001B[0m\u001B[1;33m)\u001B[0m\u001B[1;33m\u001B[0m\u001B[1;33m\u001B[0m\u001B[0m\n\u001B[0;32m   4515\u001B[0m         \u001B[0mc\u001B[0m\u001B[1;33m,\u001B[0m \u001B[0mcolors\u001B[0m\u001B[1;33m,\u001B[0m \u001B[0medgecolors\u001B[0m \u001B[1;33m=\u001B[0m\u001B[0;31m \u001B[0m\u001B[0;31m\\\u001B[0m\u001B[1;33m\u001B[0m\u001B[1;33m\u001B[0m\u001B[0m\n\u001B[1;32m-> 4516\u001B[1;33m             self._parse_scatter_color_args(\n\u001B[0m\u001B[0;32m   4517\u001B[0m                 \u001B[0mc\u001B[0m\u001B[1;33m,\u001B[0m \u001B[0medgecolors\u001B[0m\u001B[1;33m,\u001B[0m \u001B[0mkwargs\u001B[0m\u001B[1;33m,\u001B[0m \u001B[0mx\u001B[0m\u001B[1;33m.\u001B[0m\u001B[0msize\u001B[0m\u001B[1;33m,\u001B[0m\u001B[1;33m\u001B[0m\u001B[1;33m\u001B[0m\u001B[0m\n\u001B[0;32m   4518\u001B[0m                 get_next_color_func=self._get_patches_for_fill.get_next_color)\n",
      "\u001B[1;32m~\\.conda\\envs\\machine_learning\\lib\\site-packages\\matplotlib\\axes\\_axes.py\u001B[0m in \u001B[0;36m_parse_scatter_color_args\u001B[1;34m(c, edgecolors, kwargs, xsize, get_next_color_func)\u001B[0m\n\u001B[0;32m   4281\u001B[0m \u001B[1;33m\u001B[0m\u001B[0m\n\u001B[0;32m   4282\u001B[0m         \u001B[1;32mif\u001B[0m \u001B[0mkwcolor\u001B[0m \u001B[1;32mis\u001B[0m \u001B[1;32mnot\u001B[0m \u001B[1;32mNone\u001B[0m \u001B[1;32mand\u001B[0m \u001B[0mc\u001B[0m \u001B[1;32mis\u001B[0m \u001B[1;32mnot\u001B[0m \u001B[1;32mNone\u001B[0m\u001B[1;33m:\u001B[0m\u001B[1;33m\u001B[0m\u001B[1;33m\u001B[0m\u001B[0m\n\u001B[1;32m-> 4283\u001B[1;33m             raise ValueError(\"Supply a 'c' argument or a 'color'\"\n\u001B[0m\u001B[0;32m   4284\u001B[0m                              \u001B[1;34m\" kwarg but not both; they differ but\"\u001B[0m\u001B[1;33m\u001B[0m\u001B[1;33m\u001B[0m\u001B[0m\n\u001B[0;32m   4285\u001B[0m                              \" their functionalities overlap.\")\n",
      "\u001B[1;31mValueError\u001B[0m: Supply a 'c' argument or a 'color' kwarg but not both; they differ but their functionalities overlap."
     ]
    },
    {
     "data": {
      "text/plain": "<Figure size 648x648 with 1 Axes>",
      "image/png": "[encoded data removed]"
     },
     "metadata": {
      "needs_background": "light"
     },
     "output_type": "display_data"
    }
   ],
   "source": [
    "fig = plt.figure(figsize=(9,9))\n",
    "ax = fig.add_subplot(111, projection='3d')\n",
    "\n",
    "# the coordinate origin (black + sign)\n",
    "ax.scatter(0,0,0, c='k', marker='+', s=100)\n",
    "\n",
    "# the population (purple)\n",
    "for ind in pop:\n",
    "    ax.scatter(ind.fitness.values[0],\n",
    "               ind.fitness.values[1], \n",
    "               ind.fitness.values[2], \n",
    "               color='purple', c='mediumpurple',\n",
    "               s=30, marker='o')\n",
    "\n",
    "# ideal point (red star)\n",
    "ideal_point = find_ideal_point(pop)\n",
    "ax.scatter(ideal_point[0], ideal_point[1], ideal_point[2],\n",
    "           s=50, marker='*', color='salmon', c='red')\n",
    "\n",
    "# extreme points marked (red)\n",
    "extremes = find_extreme_points(pop)\n",
    "for i,ex in enumerate(extremes):\n",
    "    ax.scatter(ex.fitness.values[0],\n",
    "               ex.fitness.values[1], \n",
    "               ex.fitness.values[2], s=30, c='r', marker='o', color='r')\n",
    "\n",
    "# intercepts (in green)\n",
    "intercepts = construct_hyperplane(pop, extremes)\n",
    "verts = [(intercepts[0], 0, 0), (0, intercepts[1], 0), (0, 0, intercepts[2])]\n",
    "\n",
    "for vert in verts:\n",
    "    ax.scatter(vert[0], vert[1], vert[2], c='lightgreen', color='forestgreen', s=100, marker='.')\n",
    "    \n",
    "tri = a3.art3d.Poly3DCollection([verts])\n",
    "tri.set_color('lightgreen')\n",
    "tri.set_alpha(0.11)\n",
    "tri.set_edgecolor('lightgreen')\n",
    "ax.add_collection3d(tri)\n",
    "\n",
    "# normalized objectives (light blue)\n",
    "normalize_objectives(pop, intercepts, ideal_point)\n",
    "\n",
    "for ind in pop:\n",
    "    ax.scatter(ind.fitness.normalized_values[0], \n",
    "               ind.fitness.normalized_values[1], \n",
    "               ind.fitness.normalized_values[2], color='navy', marker='o', c='lightblue')\n",
    "\n",
    "# reference points (gray)\n",
    "rps = generate_reference_points(3)\n",
    "for rp in rps:\n",
    "    ax.scatter(rp[0], rp[1], rp[2], marker='o', c='lightgray', color='gray')\n",
    "\n",
    "# final figure details   \n",
    "ax.set_xlabel('$f_1()$', fontsize=15)\n",
    "ax.set_ylabel('$f_2()$', fontsize=15)\n",
    "ax.set_zlabel('$f_3()$', fontsize=15)\n",
    "ax.view_init(elev=9, azim=-40)\n",
    "plt.autoscale(tight=True)"
   ]
  },
  {
   "cell_type": "markdown",
   "metadata": {},
   "source": [
    "Associating individuals to reference points."
   ]
  },
  {
   "cell_type": "code",
   "execution_count": null,
   "metadata": {
    "collapsed": false
   },
   "outputs": [],
   "source": [
    "associate(pop, rps)"
   ]
  },
  {
   "cell_type": "markdown",
   "metadata": {},
   "source": [
    "Resulting associations"
   ]
  },
  {
   "cell_type": "code",
   "execution_count": null,
   "metadata": {
    "collapsed": false
   },
   "outputs": [],
   "source": [
    "fig = plt.figure(figsize=(7,7))\n",
    "ax = fig.add_subplot(111, projection='3d')\n",
    "\n",
    "# the coordinate origin\n",
    "ax.scatter(0,0,0, c='k', marker='+', s=100)\n",
    "\n",
    "for rp in rps:\n",
    "    ax.scatter(rp[0], rp[1], rp[2], marker='o', c='lightgray', color='gray')\n",
    "\n",
    "pairs = []\n",
    "for ind in pop:\n",
    "    ax.scatter(ind.fitness.normalized_values[0], \n",
    "               ind.fitness.normalized_values[1], \n",
    "               ind.fitness.normalized_values[2], color='navy', marker='o', c='lightblue')\n",
    "    pairs += [(ind.fitness.normalized_values, ind.reference_point)]\n",
    "\n",
    "lin = a3.art3d.Line3DCollection(pairs)\n",
    "lin.set_color('blue')\n",
    "ax.add_collection3d(lin)\n",
    "\n",
    "# final figure details   \n",
    "ax.set_xlabel('$f_1()$', fontsize=15)\n",
    "ax.set_ylabel('$f_2()$', fontsize=15)\n",
    "ax.set_zlabel('$f_3()$', fontsize=15)\n",
    "ax.view_init(elev=11, azim=-21)\n",
    "plt.autoscale(tight=True)"
   ]
  },
  {
   "cell_type": "markdown",
   "metadata": {},
   "source": [
    "# Implementing NSGA-III"
   ]
  },
  {
   "cell_type": "markdown",
   "metadata": {},
   "source": [
    "Having the selection mechanism the implementantion of NSGA-III is very simple thanks to DEAP."
   ]
  },
  {
   "cell_type": "code",
   "execution_count": null,
   "metadata": {
    "collapsed": true
   },
   "outputs": [],
   "source": [
    "def nsga_iii(toolbox, stats=None, verbose=False):\n",
    "    population = toolbox.population(n=toolbox.pop_size)\n",
    "    return algorithms.eaMuPlusLambda(population, toolbox,\n",
    "                              mu=toolbox.pop_size, \n",
    "                              lambda_=toolbox.pop_size, \n",
    "                              cxpb=toolbox.cross_prob, \n",
    "                              mutpb=toolbox.mut_prob,\n",
    "                              ngen=toolbox.max_gen,\n",
    "                              stats=stats, verbose=verbose)"
   ]
  },
  {
   "cell_type": "markdown",
   "metadata": {},
   "source": [
    "We create a `Statistics` instance to store the populations in every iteration."
   ]
  },
  {
   "cell_type": "code",
   "execution_count": null,
   "metadata": {
    "button": false,
    "collapsed": true,
    "deletable": true,
    "new_sheet": false,
    "run_control": {
     "read_only": false
    }
   },
   "outputs": [],
   "source": [
    "stats = tools.Statistics()\n",
    "stats.register('pop', copy.deepcopy)"
   ]
  },
  {
   "cell_type": "markdown",
   "metadata": {},
   "source": [
    "Running NSGA-III..."
   ]
  },
  {
   "cell_type": "code",
   "execution_count": null,
   "metadata": {
    "collapsed": false,
    "scrolled": false
   },
   "outputs": [],
   "source": [
    "res, logbook = nsga_iii(toolbox, stats=stats)"
   ]
  },
  {
   "cell_type": "markdown",
   "metadata": {},
   "source": [
    "Resulting population."
   ]
  },
  {
   "cell_type": "code",
   "execution_count": null,
   "metadata": {
    "collapsed": false
   },
   "outputs": [],
   "source": [
    "fig = plt.figure(figsize=(7,7))\n",
    "ax = fig.add_subplot(111, projection='3d')\n",
    "\n",
    "for ind in res:\n",
    "    ax.scatter(ind.fitness.values[0],\n",
    "               ind.fitness.values[1],\n",
    "               ind.fitness.values[2], c='purple', marker='o', color='mediumpurple')\n",
    "\n",
    "ax.set_xlabel('$f_1()$', fontsize=15)\n",
    "ax.set_ylabel('$f_2()$', fontsize=15)\n",
    "ax.set_zlabel('$f_3()$', fontsize=15)\n",
    "ax.view_init(elev=11, azim=-21)\n",
    "plt.autoscale(tight=True)"
   ]
  },
  {
   "cell_type": "markdown",
   "metadata": {},
   "source": [
    "### Plotting hypervolume"
   ]
  },
  {
   "cell_type": "code",
   "execution_count": null,
   "metadata": {
    "collapsed": false
   },
   "outputs": [],
   "source": [
    "pops = logbook.select('pop')"
   ]
  },
  {
   "cell_type": "code",
   "execution_count": null,
   "metadata": {
    "collapsed": true
   },
   "outputs": [],
   "source": [
    "from deap.tools._hypervolume import hv"
   ]
  },
  {
   "cell_type": "code",
   "execution_count": null,
   "metadata": {
    "collapsed": true
   },
   "outputs": [],
   "source": [
    "def hypervolume(individuals, ref=None):\n",
    "    front = tools.sortLogNondominated(individuals, len(individuals), first_front_only=True)\n",
    "    wobjs = np.array([ind.fitness.wvalues for ind in front]) * -1\n",
    "    if ref is None:\n",
    "        ref = np.max(wobjs, axis=0) + 1\n",
    "    return hv.hypervolume(wobjs, ref)"
   ]
  },
  {
   "cell_type": "code",
   "execution_count": null,
   "metadata": {
    "collapsed": false
   },
   "outputs": [],
   "source": [
    "pops_obj = [np.array([ind.fitness.wvalues for ind in pop]) * -1 for pop in pops]"
   ]
  },
  {
   "cell_type": "code",
   "execution_count": null,
   "metadata": {
    "collapsed": false
   },
   "outputs": [],
   "source": [
    "ref = np.max([np.max(wobjs, axis=0) for wobjs in pops_obj], axis=0) + 1"
   ]
  },
  {
   "cell_type": "code",
   "execution_count": null,
   "metadata": {
    "collapsed": false
   },
   "outputs": [],
   "source": [
    "hypervols = [hypervolume(pop, ref) for pop in pops]"
   ]
  },
  {
   "cell_type": "code",
   "execution_count": null,
   "metadata": {
    "collapsed": false,
    "pycharm": {
     "name": "#%%\n"
    }
   },
   "outputs": [],
   "source": [
    "plt.plot(hypervols)\n",
    "plt.xlabel('Iterations (t)')\n",
    "plt.ylabel('Hypervolume')\n"
   ]
  }
 ],
 "metadata": {
  "kernelspec": {
   "name": "pycharm-a2cd6d97",
   "language": "python",
   "display_name": "PyCharm (OptimizationAlgorithms)"
  },
  "language_info": {
   "codemirror_mode": {
    "name": "ipython",
    "version": 3
   },
   "file_extension": ".py",
   "mimetype": "text/x-python",
   "name": "python",
   "nbconvert_exporter": "python",
   "pygments_lexer": "ipython3",
   "version": "3.5.1"
  }
 },
 "nbformat": 4,
 "nbformat_minor": 0
}